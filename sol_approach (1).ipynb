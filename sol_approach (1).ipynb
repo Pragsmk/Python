{
 "cells": [
  {
   "cell_type": "code",
   "execution_count": 2,
   "metadata": {},
   "outputs": [],
   "source": [
    "url=\"https://s3.us-east-2.amazonaws.com/datafaculty/bootcamp/membership.csv\""
   ]
  },
  {
   "cell_type": "code",
   "execution_count": 3,
   "metadata": {},
   "outputs": [],
   "source": [
    "import pandas as pd\n",
    "import numpy as np"
   ]
  },
  {
   "cell_type": "code",
   "execution_count": 4,
   "metadata": {},
   "outputs": [],
   "source": [
    "data=pd.read_csv(url)"
   ]
  },
  {
   "cell_type": "code",
   "execution_count": 5,
   "metadata": {},
   "outputs": [
    {
     "data": {
      "text/html": [
       "<div>\n",
       "<style scoped>\n",
       "    .dataframe tbody tr th:only-of-type {\n",
       "        vertical-align: middle;\n",
       "    }\n",
       "\n",
       "    .dataframe tbody tr th {\n",
       "        vertical-align: top;\n",
       "    }\n",
       "\n",
       "    .dataframe thead th {\n",
       "        text-align: right;\n",
       "    }\n",
       "</style>\n",
       "<table border=\"1\" class=\"dataframe\">\n",
       "  <thead>\n",
       "    <tr style=\"text-align: right;\">\n",
       "      <th></th>\n",
       "      <th>MEMBERSHIP_NUMBER</th>\n",
       "      <th>MEMBERSHIP_TERM_YEARS</th>\n",
       "      <th>ANNUAL_FEES</th>\n",
       "      <th>MEMBER_MARITAL_STATUS</th>\n",
       "      <th>MEMBER_GENDER</th>\n",
       "      <th>MEMBER_ANNUAL_INCOME</th>\n",
       "      <th>MEMBER_OCCUPATION_CD</th>\n",
       "      <th>MEMBERSHIP_PACKAGE</th>\n",
       "      <th>MEMBER_AGE_AT_ISSUE</th>\n",
       "      <th>ADDITIONAL_MEMBERS</th>\n",
       "      <th>PAYMENT_MODE</th>\n",
       "      <th>AGENT_CODE</th>\n",
       "      <th>MEMBERSHIP_STATUS</th>\n",
       "      <th>START_DATE (YYYYMMDD)</th>\n",
       "      <th>END_DATE  (YYYYMMDD)</th>\n",
       "    </tr>\n",
       "  </thead>\n",
       "  <tbody>\n",
       "    <tr>\n",
       "      <th>0</th>\n",
       "      <td>A00001</td>\n",
       "      <td>29</td>\n",
       "      <td>113125.0</td>\n",
       "      <td>M</td>\n",
       "      <td>M</td>\n",
       "      <td>25200000.0</td>\n",
       "      <td>1.0</td>\n",
       "      <td>TYPE-B</td>\n",
       "      <td>45</td>\n",
       "      <td>2</td>\n",
       "      <td>ANNUAL</td>\n",
       "      <td>477</td>\n",
       "      <td>INFORCE</td>\n",
       "      <td>20060914</td>\n",
       "      <td>NaN</td>\n",
       "    </tr>\n",
       "    <tr>\n",
       "      <th>1</th>\n",
       "      <td>A00002</td>\n",
       "      <td>38</td>\n",
       "      <td>112220.0</td>\n",
       "      <td>M</td>\n",
       "      <td>M</td>\n",
       "      <td>10339200.0</td>\n",
       "      <td>1.0</td>\n",
       "      <td>TYPE-B</td>\n",
       "      <td>36</td>\n",
       "      <td>3</td>\n",
       "      <td>QUARTERLY</td>\n",
       "      <td>255</td>\n",
       "      <td>INFORCE</td>\n",
       "      <td>20061102</td>\n",
       "      <td>NaN</td>\n",
       "    </tr>\n",
       "    <tr>\n",
       "      <th>2</th>\n",
       "      <td>A00003</td>\n",
       "      <td>12</td>\n",
       "      <td>100000.0</td>\n",
       "      <td>M</td>\n",
       "      <td>M</td>\n",
       "      <td>14400000.0</td>\n",
       "      <td>1.0</td>\n",
       "      <td>TYPE-B</td>\n",
       "      <td>42</td>\n",
       "      <td>1</td>\n",
       "      <td>ANNUAL</td>\n",
       "      <td>7866</td>\n",
       "      <td>INFORCE</td>\n",
       "      <td>20070124</td>\n",
       "      <td>NaN</td>\n",
       "    </tr>\n",
       "    <tr>\n",
       "      <th>3</th>\n",
       "      <td>A00004</td>\n",
       "      <td>12</td>\n",
       "      <td>100000.0</td>\n",
       "      <td>M</td>\n",
       "      <td>M</td>\n",
       "      <td>9000000.0</td>\n",
       "      <td>1.0</td>\n",
       "      <td>TYPE-B</td>\n",
       "      <td>39</td>\n",
       "      <td>2</td>\n",
       "      <td>ANNUAL</td>\n",
       "      <td>200533</td>\n",
       "      <td>INFORCE</td>\n",
       "      <td>20070122</td>\n",
       "      <td>NaN</td>\n",
       "    </tr>\n",
       "    <tr>\n",
       "      <th>4</th>\n",
       "      <td>A00005</td>\n",
       "      <td>46</td>\n",
       "      <td>100000.0</td>\n",
       "      <td>M</td>\n",
       "      <td>M</td>\n",
       "      <td>4800000.0</td>\n",
       "      <td>1.0</td>\n",
       "      <td>TYPE-B</td>\n",
       "      <td>27</td>\n",
       "      <td>2</td>\n",
       "      <td>QUARTERLY</td>\n",
       "      <td>6988</td>\n",
       "      <td>INFORCE</td>\n",
       "      <td>20070131</td>\n",
       "      <td>NaN</td>\n",
       "    </tr>\n",
       "  </tbody>\n",
       "</table>\n",
       "</div>"
      ],
      "text/plain": [
       "  MEMBERSHIP_NUMBER  MEMBERSHIP_TERM_YEARS  ANNUAL_FEES MEMBER_MARITAL_STATUS  \\\n",
       "0            A00001                     29     113125.0                     M   \n",
       "1            A00002                     38     112220.0                     M   \n",
       "2            A00003                     12     100000.0                     M   \n",
       "3            A00004                     12     100000.0                     M   \n",
       "4            A00005                     46     100000.0                     M   \n",
       "\n",
       "  MEMBER_GENDER  MEMBER_ANNUAL_INCOME  MEMBER_OCCUPATION_CD  \\\n",
       "0             M            25200000.0                   1.0   \n",
       "1             M            10339200.0                   1.0   \n",
       "2             M            14400000.0                   1.0   \n",
       "3             M             9000000.0                   1.0   \n",
       "4             M             4800000.0                   1.0   \n",
       "\n",
       "  MEMBERSHIP_PACKAGE  MEMBER_AGE_AT_ISSUE  ADDITIONAL_MEMBERS PAYMENT_MODE  \\\n",
       "0             TYPE-B                   45                   2       ANNUAL   \n",
       "1             TYPE-B                   36                   3    QUARTERLY   \n",
       "2             TYPE-B                   42                   1       ANNUAL   \n",
       "3             TYPE-B                   39                   2       ANNUAL   \n",
       "4             TYPE-B                   27                   2    QUARTERLY   \n",
       "\n",
       "  AGENT_CODE MEMBERSHIP_STATUS  START_DATE (YYYYMMDD)  END_DATE  (YYYYMMDD)  \n",
       "0        477           INFORCE               20060914                   NaN  \n",
       "1        255           INFORCE               20061102                   NaN  \n",
       "2       7866           INFORCE               20070124                   NaN  \n",
       "3     200533           INFORCE               20070122                   NaN  \n",
       "4       6988           INFORCE               20070131                   NaN  "
      ]
     },
     "execution_count": 5,
     "metadata": {},
     "output_type": "execute_result"
    }
   ],
   "source": [
    "data.head()"
   ]
  },
  {
   "cell_type": "code",
   "execution_count": 8,
   "metadata": {},
   "outputs": [],
   "source": [
    "data=data.drop(['MEMBERSHIP_NUMBER','AGENT_CODE'],axis=1)"
   ]
  },
  {
   "cell_type": "code",
   "execution_count": 9,
   "metadata": {},
   "outputs": [
    {
     "data": {
      "text/html": [
       "<div>\n",
       "<style scoped>\n",
       "    .dataframe tbody tr th:only-of-type {\n",
       "        vertical-align: middle;\n",
       "    }\n",
       "\n",
       "    .dataframe tbody tr th {\n",
       "        vertical-align: top;\n",
       "    }\n",
       "\n",
       "    .dataframe thead th {\n",
       "        text-align: right;\n",
       "    }\n",
       "</style>\n",
       "<table border=\"1\" class=\"dataframe\">\n",
       "  <thead>\n",
       "    <tr style=\"text-align: right;\">\n",
       "      <th></th>\n",
       "      <th>MEMBERSHIP_TERM_YEARS</th>\n",
       "      <th>ANNUAL_FEES</th>\n",
       "      <th>MEMBER_MARITAL_STATUS</th>\n",
       "      <th>MEMBER_GENDER</th>\n",
       "      <th>MEMBER_ANNUAL_INCOME</th>\n",
       "      <th>MEMBER_OCCUPATION_CD</th>\n",
       "      <th>MEMBERSHIP_PACKAGE</th>\n",
       "      <th>MEMBER_AGE_AT_ISSUE</th>\n",
       "      <th>ADDITIONAL_MEMBERS</th>\n",
       "      <th>PAYMENT_MODE</th>\n",
       "      <th>MEMBERSHIP_STATUS</th>\n",
       "      <th>START_DATE (YYYYMMDD)</th>\n",
       "      <th>END_DATE  (YYYYMMDD)</th>\n",
       "    </tr>\n",
       "  </thead>\n",
       "  <tbody>\n",
       "    <tr>\n",
       "      <th>0</th>\n",
       "      <td>29</td>\n",
       "      <td>113125.0</td>\n",
       "      <td>M</td>\n",
       "      <td>M</td>\n",
       "      <td>25200000.0</td>\n",
       "      <td>1.0</td>\n",
       "      <td>TYPE-B</td>\n",
       "      <td>45</td>\n",
       "      <td>2</td>\n",
       "      <td>ANNUAL</td>\n",
       "      <td>INFORCE</td>\n",
       "      <td>20060914</td>\n",
       "      <td>NaN</td>\n",
       "    </tr>\n",
       "    <tr>\n",
       "      <th>1</th>\n",
       "      <td>38</td>\n",
       "      <td>112220.0</td>\n",
       "      <td>M</td>\n",
       "      <td>M</td>\n",
       "      <td>10339200.0</td>\n",
       "      <td>1.0</td>\n",
       "      <td>TYPE-B</td>\n",
       "      <td>36</td>\n",
       "      <td>3</td>\n",
       "      <td>QUARTERLY</td>\n",
       "      <td>INFORCE</td>\n",
       "      <td>20061102</td>\n",
       "      <td>NaN</td>\n",
       "    </tr>\n",
       "    <tr>\n",
       "      <th>2</th>\n",
       "      <td>12</td>\n",
       "      <td>100000.0</td>\n",
       "      <td>M</td>\n",
       "      <td>M</td>\n",
       "      <td>14400000.0</td>\n",
       "      <td>1.0</td>\n",
       "      <td>TYPE-B</td>\n",
       "      <td>42</td>\n",
       "      <td>1</td>\n",
       "      <td>ANNUAL</td>\n",
       "      <td>INFORCE</td>\n",
       "      <td>20070124</td>\n",
       "      <td>NaN</td>\n",
       "    </tr>\n",
       "    <tr>\n",
       "      <th>3</th>\n",
       "      <td>12</td>\n",
       "      <td>100000.0</td>\n",
       "      <td>M</td>\n",
       "      <td>M</td>\n",
       "      <td>9000000.0</td>\n",
       "      <td>1.0</td>\n",
       "      <td>TYPE-B</td>\n",
       "      <td>39</td>\n",
       "      <td>2</td>\n",
       "      <td>ANNUAL</td>\n",
       "      <td>INFORCE</td>\n",
       "      <td>20070122</td>\n",
       "      <td>NaN</td>\n",
       "    </tr>\n",
       "    <tr>\n",
       "      <th>4</th>\n",
       "      <td>46</td>\n",
       "      <td>100000.0</td>\n",
       "      <td>M</td>\n",
       "      <td>M</td>\n",
       "      <td>4800000.0</td>\n",
       "      <td>1.0</td>\n",
       "      <td>TYPE-B</td>\n",
       "      <td>27</td>\n",
       "      <td>2</td>\n",
       "      <td>QUARTERLY</td>\n",
       "      <td>INFORCE</td>\n",
       "      <td>20070131</td>\n",
       "      <td>NaN</td>\n",
       "    </tr>\n",
       "  </tbody>\n",
       "</table>\n",
       "</div>"
      ],
      "text/plain": [
       "   MEMBERSHIP_TERM_YEARS  ANNUAL_FEES MEMBER_MARITAL_STATUS MEMBER_GENDER  \\\n",
       "0                     29     113125.0                     M             M   \n",
       "1                     38     112220.0                     M             M   \n",
       "2                     12     100000.0                     M             M   \n",
       "3                     12     100000.0                     M             M   \n",
       "4                     46     100000.0                     M             M   \n",
       "\n",
       "   MEMBER_ANNUAL_INCOME  MEMBER_OCCUPATION_CD MEMBERSHIP_PACKAGE  \\\n",
       "0            25200000.0                   1.0             TYPE-B   \n",
       "1            10339200.0                   1.0             TYPE-B   \n",
       "2            14400000.0                   1.0             TYPE-B   \n",
       "3             9000000.0                   1.0             TYPE-B   \n",
       "4             4800000.0                   1.0             TYPE-B   \n",
       "\n",
       "   MEMBER_AGE_AT_ISSUE  ADDITIONAL_MEMBERS PAYMENT_MODE MEMBERSHIP_STATUS  \\\n",
       "0                   45                   2       ANNUAL           INFORCE   \n",
       "1                   36                   3    QUARTERLY           INFORCE   \n",
       "2                   42                   1       ANNUAL           INFORCE   \n",
       "3                   39                   2       ANNUAL           INFORCE   \n",
       "4                   27                   2    QUARTERLY           INFORCE   \n",
       "\n",
       "   START_DATE (YYYYMMDD)  END_DATE  (YYYYMMDD)  \n",
       "0               20060914                   NaN  \n",
       "1               20061102                   NaN  \n",
       "2               20070124                   NaN  \n",
       "3               20070122                   NaN  \n",
       "4               20070131                   NaN  "
      ]
     },
     "execution_count": 9,
     "metadata": {},
     "output_type": "execute_result"
    }
   ],
   "source": [
    "data.head()"
   ]
  },
  {
   "cell_type": "code",
   "execution_count": 10,
   "metadata": {},
   "outputs": [
    {
     "data": {
      "text/plain": [
       "Index(['MEMBERSHIP_TERM_YEARS', 'ANNUAL_FEES', 'MEMBER_MARITAL_STATUS',\n",
       "       'MEMBER_GENDER', 'MEMBER_ANNUAL_INCOME', 'MEMBER_OCCUPATION_CD',\n",
       "       'MEMBERSHIP_PACKAGE', 'MEMBER_AGE_AT_ISSUE', 'ADDITIONAL_MEMBERS',\n",
       "       'PAYMENT_MODE', 'MEMBERSHIP_STATUS', 'START_DATE (YYYYMMDD)',\n",
       "       'END_DATE  (YYYYMMDD)'],\n",
       "      dtype='object')"
      ]
     },
     "execution_count": 10,
     "metadata": {},
     "output_type": "execute_result"
    }
   ],
   "source": [
    "data.columns"
   ]
  },
  {
   "cell_type": "code",
   "execution_count": 12,
   "metadata": {},
   "outputs": [],
   "source": [
    "data=data.drop(['START_DATE (YYYYMMDD)','END_DATE  (YYYYMMDD)'],axis=1)"
   ]
  },
  {
   "cell_type": "code",
   "execution_count": 13,
   "metadata": {},
   "outputs": [
    {
     "data": {
      "text/plain": [
       "Index(['MEMBERSHIP_TERM_YEARS', 'ANNUAL_FEES', 'MEMBER_MARITAL_STATUS',\n",
       "       'MEMBER_GENDER', 'MEMBER_ANNUAL_INCOME', 'MEMBER_OCCUPATION_CD',\n",
       "       'MEMBERSHIP_PACKAGE', 'MEMBER_AGE_AT_ISSUE', 'ADDITIONAL_MEMBERS',\n",
       "       'PAYMENT_MODE', 'MEMBERSHIP_STATUS'],\n",
       "      dtype='object')"
      ]
     },
     "execution_count": 13,
     "metadata": {},
     "output_type": "execute_result"
    }
   ],
   "source": [
    "data.columns"
   ]
  },
  {
   "cell_type": "code",
   "execution_count": 14,
   "metadata": {},
   "outputs": [
    {
     "data": {
      "text/plain": [
       "MEMBERSHIP_TERM_YEARS       0\n",
       "ANNUAL_FEES                 0\n",
       "MEMBER_MARITAL_STATUS    2597\n",
       "MEMBER_GENDER             611\n",
       "MEMBER_ANNUAL_INCOME     1754\n",
       "MEMBER_OCCUPATION_CD       43\n",
       "MEMBERSHIP_PACKAGE          0\n",
       "MEMBER_AGE_AT_ISSUE         0\n",
       "ADDITIONAL_MEMBERS          0\n",
       "PAYMENT_MODE                0\n",
       "MEMBERSHIP_STATUS           0\n",
       "dtype: int64"
      ]
     },
     "execution_count": 14,
     "metadata": {},
     "output_type": "execute_result"
    }
   ],
   "source": [
    "data.isnull().sum()"
   ]
  },
  {
   "cell_type": "code",
   "execution_count": 15,
   "metadata": {},
   "outputs": [
    {
     "data": {
      "text/plain": [
       "M    6430\n",
       "S    1144\n",
       "W     146\n",
       "D      45\n",
       "Name: MEMBER_MARITAL_STATUS, dtype: int64"
      ]
     },
     "execution_count": 15,
     "metadata": {},
     "output_type": "execute_result"
    }
   ],
   "source": [
    "data['MEMBER_MARITAL_STATUS'].value_counts()"
   ]
  },
  {
   "cell_type": "code",
   "execution_count": 16,
   "metadata": {},
   "outputs": [],
   "source": [
    "data['MEMBER_MARITAL_STATUS']=data['MEMBER_MARITAL_STATUS'].fillna('Missing')"
   ]
  },
  {
   "cell_type": "code",
   "execution_count": 17,
   "metadata": {},
   "outputs": [],
   "source": [
    "data['MEMBER_GENDER']=data['MEMBER_GENDER'].fillna(\"Missing\")"
   ]
  },
  {
   "cell_type": "code",
   "execution_count": 18,
   "metadata": {},
   "outputs": [
    {
     "data": {
      "text/plain": [
       "array([ 1.,  4.,  5.,  6., nan,  2.,  3.])"
      ]
     },
     "execution_count": 18,
     "metadata": {},
     "output_type": "execute_result"
    }
   ],
   "source": [
    "data['MEMBER_OCCUPATION_CD'].unique()"
   ]
  },
  {
   "cell_type": "code",
   "execution_count": 19,
   "metadata": {},
   "outputs": [
    {
     "data": {
      "text/plain": [
       "1.0    7281\n",
       "2.0    1778\n",
       "6.0     728\n",
       "5.0     324\n",
       "4.0     207\n",
       "3.0       1\n",
       "Name: MEMBER_OCCUPATION_CD, dtype: int64"
      ]
     },
     "execution_count": 19,
     "metadata": {},
     "output_type": "execute_result"
    }
   ],
   "source": [
    "data['MEMBER_OCCUPATION_CD'].value_counts()"
   ]
  },
  {
   "cell_type": "code",
   "execution_count": 22,
   "metadata": {},
   "outputs": [],
   "source": [
    "ind_m=data[data['MEMBER_OCCUPATION_CD'].isnull()].index"
   ]
  },
  {
   "cell_type": "code",
   "execution_count": 24,
   "metadata": {},
   "outputs": [
    {
     "data": {
      "text/plain": [
       "(10362, 11)"
      ]
     },
     "execution_count": 24,
     "metadata": {},
     "output_type": "execute_result"
    }
   ],
   "source": [
    "data.shape"
   ]
  },
  {
   "cell_type": "code",
   "execution_count": 25,
   "metadata": {},
   "outputs": [],
   "source": [
    "data=data.drop(ind_m,axis=0)"
   ]
  },
  {
   "cell_type": "code",
   "execution_count": 26,
   "metadata": {},
   "outputs": [
    {
     "data": {
      "text/plain": [
       "MEMBERSHIP_TERM_YEARS       0\n",
       "ANNUAL_FEES                 0\n",
       "MEMBER_MARITAL_STATUS       0\n",
       "MEMBER_GENDER               0\n",
       "MEMBER_ANNUAL_INCOME     1730\n",
       "MEMBER_OCCUPATION_CD        0\n",
       "MEMBERSHIP_PACKAGE          0\n",
       "MEMBER_AGE_AT_ISSUE         0\n",
       "ADDITIONAL_MEMBERS          0\n",
       "PAYMENT_MODE                0\n",
       "MEMBERSHIP_STATUS           0\n",
       "dtype: int64"
      ]
     },
     "execution_count": 26,
     "metadata": {},
     "output_type": "execute_result"
    }
   ],
   "source": [
    "data.isnull().sum()"
   ]
  },
  {
   "cell_type": "code",
   "execution_count": 27,
   "metadata": {},
   "outputs": [
    {
     "data": {
      "text/plain": [
       "count    8.589000e+03\n",
       "mean     1.451762e+06\n",
       "std      1.759114e+07\n",
       "min      9.996000e+03\n",
       "25%      3.999960e+05\n",
       "50%      5.499960e+05\n",
       "75%      9.999960e+05\n",
       "max      1.000000e+09\n",
       "Name: MEMBER_ANNUAL_INCOME, dtype: float64"
      ]
     },
     "execution_count": 27,
     "metadata": {},
     "output_type": "execute_result"
    }
   ],
   "source": [
    "data['MEMBER_ANNUAL_INCOME'].describe()"
   ]
  },
  {
   "cell_type": "code",
   "execution_count": 29,
   "metadata": {},
   "outputs": [],
   "source": [
    "data['MEMBER_ANNUAL_INCOME']=data['MEMBER_ANNUAL_INCOME'].fillna(5.499960e+05)"
   ]
  },
  {
   "cell_type": "code",
   "execution_count": 30,
   "metadata": {},
   "outputs": [
    {
     "data": {
      "text/plain": [
       "MEMBERSHIP_TERM_YEARS    0\n",
       "ANNUAL_FEES              0\n",
       "MEMBER_MARITAL_STATUS    0\n",
       "MEMBER_GENDER            0\n",
       "MEMBER_ANNUAL_INCOME     0\n",
       "MEMBER_OCCUPATION_CD     0\n",
       "MEMBERSHIP_PACKAGE       0\n",
       "MEMBER_AGE_AT_ISSUE      0\n",
       "ADDITIONAL_MEMBERS       0\n",
       "PAYMENT_MODE             0\n",
       "MEMBERSHIP_STATUS        0\n",
       "dtype: int64"
      ]
     },
     "execution_count": 30,
     "metadata": {},
     "output_type": "execute_result"
    }
   ],
   "source": [
    "data.isnull().sum()"
   ]
  },
  {
   "cell_type": "code",
   "execution_count": 31,
   "metadata": {},
   "outputs": [],
   "source": [
    "## Label encode categorical variables\n",
    "import sklearn.preprocessing as preprocessing"
   ]
  },
  {
   "cell_type": "code",
   "execution_count": 32,
   "metadata": {},
   "outputs": [],
   "source": [
    "le=preprocessing.LabelEncoder()"
   ]
  },
  {
   "cell_type": "code",
   "execution_count": 38,
   "metadata": {},
   "outputs": [],
   "source": [
    "data['MEMBER_MARITAL_STATUS']=le.fit_transform(data['MEMBER_MARITAL_STATUS'])"
   ]
  },
  {
   "cell_type": "code",
   "execution_count": null,
   "metadata": {},
   "outputs": [],
   "source": []
  }
 ],
 "metadata": {
  "kernelspec": {
   "display_name": "Python 3",
   "language": "python",
   "name": "python3"
  },
  "language_info": {
   "codemirror_mode": {
    "name": "ipython",
    "version": 3
   },
   "file_extension": ".py",
   "mimetype": "text/x-python",
   "name": "python",
   "nbconvert_exporter": "python",
   "pygments_lexer": "ipython3",
   "version": "3.6.6"
  }
 },
 "nbformat": 4,
 "nbformat_minor": 2
}
